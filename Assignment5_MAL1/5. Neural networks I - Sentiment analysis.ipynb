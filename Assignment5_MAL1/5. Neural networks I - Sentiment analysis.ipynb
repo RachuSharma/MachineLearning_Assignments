{
 "cells": [
  {
   "cell_type": "markdown",
   "id": "5bc9be56",
   "metadata": {},
   "source": [
    "## Sentiment Analysis"
   ]
  },
  {
   "cell_type": "markdown",
   "id": "818b3b52",
   "metadata": {},
   "source": [
    "In this exercise we use the IMDb-dataset, which we will use to perform a sentiment analysis. The code below assumes that the data is placed in the same folder as this notebook. We see that the reviews are loaded as a pandas dataframe, and print the beginning of the first few reviews."
   ]
  },
  {
   "cell_type": "code",
   "execution_count": 3,
   "id": "67da3bc0",
   "metadata": {},
   "outputs": [
    {
     "name": "stdout",
     "output_type": "stream",
     "text": [
      "<class 'pandas.core.frame.DataFrame'>\n",
      "                                                   0\n",
      "0  bromwell high is a cartoon comedy . it ran at ...\n",
      "1  story of a man who has unnatural feelings for ...\n",
      "2  homelessness  or houselessness as george carli...\n",
      "3  airport    starts as a brand new luxury    pla...\n",
      "4  brilliant over  acting by lesley ann warren . ...\n"
     ]
    }
   ],
   "source": [
    "import numpy as np\n",
    "import pandas as pd\n",
    "\n",
    "reviews = pd.read_csv('reviews.txt', header=None)\n",
    "labels = pd.read_csv('labels.txt', header=None)\n",
    "Y = (labels=='positive').astype(np.int_)\n",
    "\n",
    "print(type(reviews))\n",
    "print(reviews.head())"
   ]
  },
  {
   "cell_type": "markdown",
   "id": "4982b946",
   "metadata": {},
   "source": [
    "**(a)** Split the reviews and labels in test, train and validation sets. The train and validation sets will be used to train your model and tune hyperparameters, the test set will be saved for testing. Use the `CountVectorizer` from `sklearn.feature_extraction.text` to create a Bag-of-Words representation of the reviews. Only use the 10,000 most frequent words (use the `max_features`-parameter of `CountVectorizer`)."
   ]
  },
  {
   "cell_type": "code",
   "execution_count": 5,
   "id": "eaaf29c8-fbe1-4751-b45c-4f15dfddf92f",
   "metadata": {},
   "outputs": [
    {
     "name": "stdout",
     "output_type": "stream",
     "text": [
      "\n",
      "Step (a) Output:\n",
      "Sample labels:\n",
      "   0\n",
      "0  1\n",
      "1  0\n",
      "2  1\n",
      "3  0\n",
      "4  1\n",
      "Training set shape: (15000, 10000)\n",
      "Validation set shape: (5000, 10000)\n",
      "Test set shape: (5000, 10000)\n",
      "Vocabulary size: 10000\n"
     ]
    }
   ],
   "source": [
    "# Prepare the data (split and vectorize)\n",
    "from sklearn.model_selection import train_test_split\n",
    "from sklearn.feature_extraction.text import CountVectorizer\n",
    "\n",
    "# Split the dataset into train, validation, and test sets\n",
    "X_train_val, X_test, y_train_val, y_test = train_test_split(reviews[0], Y, test_size=0.2, random_state=42)\n",
    "X_train, X_val, y_train, y_val = train_test_split(X_train_val, y_train_val, test_size=0.25, random_state=42)  # 0.25 * 0.8 = 0.2\n",
    "\n",
    "# Convert text data into count vectors using Bag-of-Words with 10,000 features\n",
    "vectorizer = CountVectorizer(max_features=10000)\n",
    "X_train_vec = vectorizer.fit_transform(X_train)\n",
    "X_val_vec = vectorizer.transform(X_val)\n",
    "X_test_vec = vectorizer.transform(X_test)\n",
    "\n",
    "# Show data shapes and sample\n",
    "print(\"\\nStep (a) Output:\")\n",
    "print(\"Sample labels:\")\n",
    "print(Y.head())\n",
    "print(\"Training set shape:\", X_train_vec.shape)\n",
    "print(\"Validation set shape:\", X_val_vec.shape)\n",
    "print(\"Test set shape:\", X_test_vec.shape)\n",
    "print(\"Vocabulary size:\", len(vectorizer.vocabulary_))\n"
   ]
  },
  {
   "cell_type": "markdown",
   "id": "ebf07ee9",
   "metadata": {},
   "source": [
    "**(b)** Explore the representation of the reviews. How is a single word represented? How about a whole review?"
   ]
  },
  {
   "cell_type": "code",
   "execution_count": 7,
   "id": "3472562f-0b27-4e18-9b82-ef634b741153",
   "metadata": {},
   "outputs": [
    {
     "name": "stdout",
     "output_type": "stream",
     "text": [
      "\n",
      "Step (b) Output:\n",
      "Original review:\n",
      "  birth of the beatles   for being a us television movie  released in the fall of     has actually been  so far the best movie which tells the tale of the the four lads from liverpool that revolutionized the music industry and the world . as told by the point of view of former beatle pete best . the performance from the entire cast is excellent but  most especially the performance by stephen mackenna as john lennon and rod culbertson as paul mccartney . the film was produced by a legend of the rock and roll era  mr dick clark . who a year earlier in     had produced another tv movie  that has stood the test of time starring  kurt rusell  in the lead role about another musical legend  elvis  . that movie was directed by an unknown director named  john carpenter  who went on to direct other successful movies such as  halloween    escape from new york   and  the thing  . the same can be said for the director of the  birth of the beatles   mr richard marquand . he went on to direct other theatrical blockbusters such as  star wars return of the jedi    eye of the needle   and  jagged edge  among many . the only other film that tells the story of the fab four that i know of  is back beat which had a theatrical release in     . however  the critics did not care for it  nor did the public  for it did not have a long life span in the theater . birth of the beatles is very charming and simplistic film that gives you the essence of the beginning of the legend and the struggles  hardships they went thru and ends at there pinnacle of success when they arrive in nyc and appear in the ed sullivan show in     . i highly recommend this film .  \n",
      "Non-zero indices in vectorized review:\n",
      "[  13   90  305  317  322  364  408  470  492  540  646  740  748  751\n",
      "  770  782  794  838  884  934 1193 1206 1249 1293 1317 1344 1452 1587\n",
      " 2093 2468 2472 2508 2509 2514 2788 2818 2822 2893 2944 2996 3020 3031\n",
      " 3037 3040 3100 3208 3246 3268 3381 3518 3543 3562 3619 3792 3998 4014\n",
      " 4063 4085 4098 4111 4202 4334 4483 4538 4721 4734 4787 4827 4989 5010\n",
      " 5105 5131 5144 5186 5294 5465 5831 5859 5860 5864 5896 5897 5930 5982\n",
      " 6017 6075 6091 6136 6174 6214 6220 6280 6459 6513 6543 6681 6881 6978\n",
      " 7196 7276 7277 7426 7469 7539 7544 7552 7554 7657 7675 8048 8109 8249\n",
      " 8331 8451 8460 8502 8542 8553 8602 8666 8667 8669 8697 8829 8900 8904\n",
      " 8942 8956 8958 8959 8963 8979 8985 8990 9000 9039 9064 9086 9098 9291\n",
      " 9403 9455 9531 9553 9681 9682 9749 9769 9775 9785 9897 9955 9969 9970]\n",
      "Vector shape: (1, 10000)\n"
     ]
    }
   ],
   "source": [
    "# Explore review representation\n",
    "# Show how a single review is represented\n",
    "example_review = X_train.iloc[0]\n",
    "example_vector = vectorizer.transform([example_review])\n",
    "print(\"\\nStep (b) Output:\")\n",
    "print(\"Original review:\")\n",
    "print(example_review)\n",
    "print(\"Non-zero indices in vectorized review:\")\n",
    "print(example_vector.nonzero()[1])\n",
    "print(\"Vector shape:\", example_vector.shape)\n"
   ]
  },
  {
   "cell_type": "markdown",
   "id": "c2638fce",
   "metadata": {},
   "source": [
    "**(c)** Train a neural network with a single hidden layer on the dataset, tuning the relevant hyperparameters to optimize accuracy. "
   ]
  },
  {
   "cell_type": "code",
   "execution_count": 9,
   "id": "7cd2767a-bcaf-4cc6-af71-aed7a44a62a5",
   "metadata": {},
   "outputs": [
    {
     "name": "stdout",
     "output_type": "stream",
     "text": [
      "\n",
      "Step (c) Output:\n",
      "Model training completed\n"
     ]
    }
   ],
   "source": [
    "# Train the neural network\n",
    "from sklearn.neural_network import MLPClassifier\n",
    "\n",
    "# Create and train a simple neural network\n",
    "model = MLPClassifier(hidden_layer_sizes=(100,), max_iter=100, random_state=42)\n",
    "model.fit(X_train_vec, y_train.values.ravel())\n",
    "\n",
    "# Output confirmation\n",
    "print(\"\\nStep (c) Output:\")\n",
    "print(\"Model training completed\")"
   ]
  },
  {
   "cell_type": "markdown",
   "id": "1fd327a6",
   "metadata": {},
   "source": [
    "**(d)** Test your sentiment-classifier on the test set."
   ]
  },
  {
   "cell_type": "code",
   "execution_count": 11,
   "id": "3f258a5e-66ee-4781-a0e4-dbd0f4d7685e",
   "metadata": {},
   "outputs": [
    {
     "name": "stdout",
     "output_type": "stream",
     "text": [
      "\n",
      "Step (d) Output:\n",
      "Validation accuracy: 88.36 %\n",
      "Test accuracy: 86.8 %\n"
     ]
    }
   ],
   "source": [
    "# Step (d): Validate and test the model\n",
    "from sklearn.metrics import accuracy_score\n",
    "\n",
    "# Predict on validation set and calculate accuracy\n",
    "val_preds = model.predict(X_val_vec)\n",
    "val_acc = accuracy_score(y_val.values.ravel(), val_preds)\n",
    "print(\"\\nStep (d) Output:\")\n",
    "print(\"Validation accuracy:\", round(val_acc * 100, 2), \"%\")\n",
    "\n",
    "# Predict on test set and calculate accuracy\n",
    "test_preds = model.predict(X_test_vec)\n",
    "test_acc = accuracy_score(y_test.values.ravel(), test_preds)\n",
    "print(\"Test accuracy:\", round(test_acc * 100, 2), \"%\")"
   ]
  },
  {
   "cell_type": "markdown",
   "id": "fd44ee62",
   "metadata": {},
   "source": [
    "**(e)** Use the classifier to classify a few sentences you write yourselves. "
   ]
  },
  {
   "cell_type": "code",
   "execution_count": 22,
   "id": "a1ef2970",
   "metadata": {},
   "outputs": [
    {
     "name": "stdout",
     "output_type": "stream",
     "text": [
      "\n",
      "Step (e) Output:\n",
      "'I loved this movie, it was amazing!' => Positive\n",
      "'I hated the movie. It was boring and too long.' => Negative\n",
      "'It was just okay. Not great, not terrible.' => Negative\n",
      "'The acting was superb and the story was touching.' => Positive\n",
      "'Worst movie ever. I regret watching it.not bad' => Negative\n"
     ]
    }
   ],
   "source": [
    "# Classify custom sentences\n",
    "# Create a few example reviews\n",
    "sample_sentences = [\n",
    "    \"I loved this movie, it was amazing!\",\n",
    "    \"I hated the movie. It was boring and too long.\",\n",
    "    \"It was just okay. Not great, not terrible.\",\n",
    "    \"The acting was superb and the story was touching.\",\n",
    "    \"Worst movie ever. I regret watching it.\"\n",
    "    \"not bad\"\n",
    "]\n",
    "\n",
    "# Convert the custom sentences to vectors and predict\n",
    "sample_vec = vectorizer.transform(sample_sentences)\n",
    "sample_preds = model.predict(sample_vec)\n",
    "\n",
    "print(\"\\nStep (e) Output:\")\n",
    "for sent, pred in zip(sample_sentences, sample_preds):\n",
    "    sentiment = \"Positive\" if pred else \"Negative\"\n",
    "    print(f\"'{sent}' => {sentiment}\")"
   ]
  },
  {
   "cell_type": "code",
   "execution_count": null,
   "id": "c5628967-3be0-4480-b30d-2a9f805e5e47",
   "metadata": {},
   "outputs": [],
   "source": []
  }
 ],
 "metadata": {
  "kernelspec": {
   "display_name": "Python 3 (ipykernel)",
   "language": "python",
   "name": "python3"
  },
  "language_info": {
   "codemirror_mode": {
    "name": "ipython",
    "version": 3
   },
   "file_extension": ".py",
   "mimetype": "text/x-python",
   "name": "python",
   "nbconvert_exporter": "python",
   "pygments_lexer": "ipython3",
   "version": "3.12.4"
  }
 },
 "nbformat": 4,
 "nbformat_minor": 5
}
